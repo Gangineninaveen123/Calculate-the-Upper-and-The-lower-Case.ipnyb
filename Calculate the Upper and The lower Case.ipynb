{
 "cells": [
  {
   "cell_type": "code",
   "execution_count": 1,
   "id": "e4f36bc8",
   "metadata": {},
   "outputs": [
    {
     "name": "stdout",
     "output_type": "stream",
     "text": [
      "No. of Upper case characters :  3\n",
      "No. of Lower case Characters :  12\n"
     ]
    }
   ],
   "source": [
    "def my_func(args):\n",
    "    upper=0\n",
    "    lower=0\n",
    "    \n",
    "    for i in args :\n",
    "        if i.isupper()==True:\n",
    "            upper+=1\n",
    "          \n",
    "        elif i.islower()==True:\n",
    "            lower+=1\n",
    "        else:\n",
    "            pass\n",
    "    print('No. of Upper case characters : ',upper)\n",
    "    print('No. of Lower case Characters : ',lower)\n",
    "    \n",
    "\n",
    "\n",
    "my_func('The quick Brow Fox')\n",
    "            "
   ]
  },
  {
   "cell_type": "code",
   "execution_count": null,
   "id": "026da64f",
   "metadata": {},
   "outputs": [],
   "source": []
  }
 ],
 "metadata": {
  "kernelspec": {
   "display_name": "Python 3",
   "language": "python",
   "name": "python3"
  },
  "language_info": {
   "codemirror_mode": {
    "name": "ipython",
    "version": 3
   },
   "file_extension": ".py",
   "mimetype": "text/x-python",
   "name": "python",
   "nbconvert_exporter": "python",
   "pygments_lexer": "ipython3",
   "version": "3.6.9"
  }
 },
 "nbformat": 4,
 "nbformat_minor": 5
}
